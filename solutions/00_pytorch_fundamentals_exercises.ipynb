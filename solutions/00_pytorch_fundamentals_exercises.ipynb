{
  "nbformat": 4,
  "nbformat_minor": 0,
  "metadata": {
    "colab": {
      "name": "00_pytorch_fundamentals_exercises.ipynb",
      "provenance": [],
      "gpuType": "T4"
    },
    "kernelspec": {
      "name": "python3",
      "display_name": "Python 3"
    },
    "language_info": {
      "name": "python"
    },
    "accelerator": "GPU"
  },
  "cells": [
    {
      "cell_type": "markdown",
      "source": [
        "[![Open In Colab](https://colab.research.google.com/assets/colab-badge.svg)](https://colab.research.google.com/github/minghaozou/pytorch-tutorial-with-solutions/blob/main/solutions/00_pytorch_fundamentals_exercises.ipynb)"
      ],
      "metadata": {
        "id": "iJhG4JSC8NXx"
      }
    },
    {
      "cell_type": "markdown",
      "source": [
        "# 00. PyTorch Fundamentals Exercises\n",
        "\n",
        "### 1. Documentation reading\n",
        "\n",
        "A big part of deep learning (and learning to code in general) is getting familiar with the documentation of a certain framework you're using. We'll be using the PyTorch documentation a lot throughout the rest of this course. So I'd recommend spending 10-minutes reading the following (it's okay if you don't get some things for now, the focus is not yet full understanding, it's awareness):\n",
        "  * The documentation on [`torch.Tensor`](https://pytorch.org/docs/stable/tensors.html#torch-tensor).\n",
        "  * The documentation on [`torch.cuda`](https://pytorch.org/docs/master/notes/cuda.html#cuda-semantics).\n",
        "\n"
      ],
      "metadata": {
        "id": "AzDBM_v4iMe7"
      }
    },
    {
      "cell_type": "code",
      "source": [
        "# No code solution (reading)"
      ],
      "metadata": {
        "id": "bGD0oD8Kizak"
      },
      "execution_count": null,
      "outputs": []
    },
    {
      "cell_type": "markdown",
      "source": [
        "### 2. Create a random tensor with shape `(7, 7)`.\n"
      ],
      "metadata": {
        "id": "__iXqqz-ioUJ"
      }
    },
    {
      "cell_type": "code",
      "source": [
        "# Import torch\n",
        "import torch\n",
        "\n",
        "\n",
        "# Create random tensor\n",
        "torch.manual_seed(0)\n",
        "X = torch.randn(7,7)  # torch.randn draws from standard normal\n",
        "X"
      ],
      "metadata": {
        "id": "6pUq9Dc8i2L7",
        "outputId": "f0baf215-3cce-4391-90fa-4c0528453648",
        "colab": {
          "base_uri": "https://localhost:8080/"
        }
      },
      "execution_count": 1,
      "outputs": [
        {
          "output_type": "execute_result",
          "data": {
            "text/plain": [
              "tensor([[-1.1258, -1.1524, -0.2506, -0.4339,  0.8487,  0.6920, -0.3160],\n",
              "        [-2.1152,  0.3223, -1.2633,  0.3500,  0.3081,  0.1198,  1.2377],\n",
              "        [ 1.1168, -0.2473, -1.3527, -1.6959,  0.5667,  0.7935,  0.5988],\n",
              "        [-1.5551, -0.3414,  1.8530,  0.7502, -0.5855, -0.1734,  0.1835],\n",
              "        [ 1.3894,  1.5863,  0.9463, -0.8437, -0.6136,  0.8728,  1.0554],\n",
              "        [ 0.1778, -0.2303, -0.3918,  0.5433, -0.3952,  0.2055,  0.7440],\n",
              "        [ 1.5210,  3.4105, -1.5312, -1.2341,  1.8197, -0.5515, -1.3253]])"
            ]
          },
          "metadata": {},
          "execution_count": 1
        }
      ]
    },
    {
      "cell_type": "markdown",
      "source": [
        "### 3. Perform a matrix multiplication on the tensor from 2 with another random tensor with shape `(1, 7)` (hint: you may have to transpose the second tensor)."
      ],
      "metadata": {
        "id": "9-XxvRLfiqkR"
      }
    },
    {
      "cell_type": "code",
      "source": [
        "# Create another random tensor\n",
        "torch.manual_seed(0)\n",
        "A = torch.randn(1, 7)\n",
        "\n",
        "# Perform matrix multiplication\n",
        "X @ A.T, (X @ A.T).shape"
      ],
      "metadata": {
        "id": "NcLqR0Sbi_vT",
        "outputId": "ea2deb40-00ca-42f6-83eb-9cb5b2a9c714",
        "colab": {
          "base_uri": "https://localhost:8080/"
        }
      },
      "execution_count": 3,
      "outputs": [
        {
          "output_type": "execute_result",
          "data": {
            "text/plain": [
              "(tensor([[-3.1132],\n",
              "         [-0.4052],\n",
              "         [ 2.2938],\n",
              "         [-4.9556],\n",
              "         [-0.9954],\n",
              "         [ 1.9452],\n",
              "         [ 2.2410]]),\n",
              " torch.Size([7, 1]))"
            ]
          },
          "metadata": {},
          "execution_count": 3
        }
      ]
    },
    {
      "cell_type": "markdown",
      "source": [
        "### 4. Set the random seed to `0` and do 2 & 3 over again.\n",
        "\n",
        "The output should be:\n",
        "```\n",
        "(tensor([[1.8542],\n",
        "         [1.9611],\n",
        "         [2.2884],\n",
        "         [3.0481],\n",
        "         [1.7067],\n",
        "         [2.5290],\n",
        "         [1.7989]]), torch.Size([7, 1]))\n",
        "```"
      ],
      "metadata": {
        "id": "eiutdKUFiryU"
      }
    },
    {
      "cell_type": "code",
      "source": [
        "# Set manual seed\n",
        "torch.manual_seed(0)\n",
        "\n",
        "# Create two random tensors\n",
        "X = torch.randn(7, 7)\n",
        "\n",
        "torch.manual_seed(0)\n",
        "A = torch.randn(1, 7)\n",
        "\n",
        "# Matrix multiply tensors\n",
        "X @ A.T, (X @ A.T).shape"
      ],
      "metadata": {
        "id": "D-lOWI_1jRMm",
        "outputId": "f678b4ca-7d67-4854-fe87-fb88f4632153",
        "colab": {
          "base_uri": "https://localhost:8080/"
        }
      },
      "execution_count": 5,
      "outputs": [
        {
          "output_type": "execute_result",
          "data": {
            "text/plain": [
              "(tensor([[-3.1132],\n",
              "         [-0.4052],\n",
              "         [ 2.2938],\n",
              "         [-4.9556],\n",
              "         [-0.9954],\n",
              "         [ 1.9452],\n",
              "         [ 2.2410]]),\n",
              " torch.Size([7, 1]))"
            ]
          },
          "metadata": {},
          "execution_count": 5
        }
      ]
    },
    {
      "cell_type": "markdown",
      "source": [
        "### 5. Speaking of random seeds, we saw how to set it with `torch.manual_seed()` but is there a GPU equivalent? (hint: you'll need to look into the documentation for `torch.cuda` for this one)\n",
        "  * If there is, set the GPU random seed to `1234`."
      ],
      "metadata": {
        "id": "ezY6ks9Cis37"
      }
    },
    {
      "cell_type": "code",
      "source": [
        "# Set random seed on the GPU\n",
        "torch.cuda.manual_seed(1234)"
      ],
      "metadata": {
        "id": "_LKWcfSTjp00"
      },
      "execution_count": 4,
      "outputs": []
    },
    {
      "cell_type": "markdown",
      "source": [
        "\n",
        "\n",
        "*   `torch.manual_seed(seed)`\n",
        "\n",
        "Seeds all RNGs: the default CPU RNG and all current CUDA devices.\n",
        "This is usually what you want in 99% of cases.\n",
        "\n",
        "*   `torch.cuda.manual_seed(seed)`\n",
        "\n",
        "Seeds the CUDA RNG for the current GPU only (the one returned by `torch.cuda.current_device()`).\n",
        "\n",
        "\n",
        "*   `torch.cuda.manual_seed_all(seed)`\n",
        "\n",
        "Seeds the CUDA RNG for all GPUs on your system."
      ],
      "metadata": {
        "id": "yb5sSGfGBmkH"
      }
    },
    {
      "cell_type": "markdown",
      "source": [
        "\n",
        "### 6. Create two random tensors of shape `(2, 3)` and send them both to the GPU (you'll need access to a GPU for this). Set `torch.manual_seed(1234)` when creating the tensors (this doesn't have to be the GPU random seed). The output should be something like:\n",
        "\n",
        "```\n",
        "Device: cuda\n",
        "(tensor([[0.0290, 0.4019, 0.2598],\n",
        "         [0.3666, 0.0583, 0.7006]], device='cuda:0'),\n",
        " tensor([[0.0518, 0.4681, 0.6738],\n",
        "         [0.3315, 0.7837, 0.5631]], device='cuda:0'))\n",
        "```"
      ],
      "metadata": {
        "id": "Ir9qSaj6it4n"
      }
    },
    {
      "cell_type": "code",
      "source": [
        "# Check for access to GPU\n",
        "torch.cuda.is_available()\n",
        "# Create two random tensors on GPU\n",
        "torch.manual_seed(42)\n",
        "tensor_A = torch.randn(2,3, device = 'cuda')\n",
        "\n",
        "torch.manual_seed(42)\n",
        "tensor_B = torch.randn(2,3, device = 'cuda')\n",
        "tensor_A, tensor_B"
      ],
      "metadata": {
        "id": "azXExiFZj5nm",
        "outputId": "bebc7c55-f9b2-4567-8c67-a684a722326b",
        "colab": {
          "base_uri": "https://localhost:8080/"
        }
      },
      "execution_count": 24,
      "outputs": [
        {
          "output_type": "execute_result",
          "data": {
            "text/plain": [
              "(tensor([[ 0.1940,  2.1614, -0.1721],\n",
              "         [ 0.8491, -1.9244,  0.6530]], device='cuda:0'),\n",
              " tensor([[ 0.1940,  2.1614, -0.1721],\n",
              "         [ 0.8491, -1.9244,  0.6530]], device='cuda:0'))"
            ]
          },
          "metadata": {},
          "execution_count": 24
        }
      ]
    },
    {
      "cell_type": "code",
      "source": [
        "# Create two random tensors on GPU\n",
        "torch.cuda.manual_seed(1234)\n",
        "X = torch.randn(2,3, device = 'cuda')\n",
        "\n",
        "torch.cuda.manual_seed(1234)\n",
        "A = torch.randn(2,3, device = 'cuda')\n",
        "X, A"
      ],
      "metadata": {
        "id": "Yhlw_nAzC-nU",
        "outputId": "a872126c-b0ca-41b2-84b5-7d5e2d23550f",
        "colab": {
          "base_uri": "https://localhost:8080/"
        }
      },
      "execution_count": 25,
      "outputs": [
        {
          "output_type": "execute_result",
          "data": {
            "text/plain": [
              "(tensor([[-1.6165,  0.5685, -0.5102],\n",
              "         [-0.9113, -1.1555, -0.2262]], device='cuda:0'),\n",
              " tensor([[-1.6165,  0.5685, -0.5102],\n",
              "         [-0.9113, -1.1555, -0.2262]], device='cuda:0'))"
            ]
          },
          "metadata": {},
          "execution_count": 25
        }
      ]
    },
    {
      "cell_type": "markdown",
      "source": [
        "\n",
        "### 7. Perform a matrix multiplication on the tensors you created in 6 (again, you may have to adjust the shapes of one of the tensors).\n",
        "\n",
        "The output should look like:\n",
        "```\n",
        "(tensor([[0.3647, 0.4709],\n",
        "         [0.5184, 0.5617]], device='cuda:0'), torch.Size([2, 2]))\n",
        "```"
      ],
      "metadata": {
        "id": "5TlAxeiSiu1y"
      }
    },
    {
      "cell_type": "code",
      "source": [
        "# Perform matmul on tensor_A and tensor_B\n",
        "tensor_X = tensor_A @ tensor_B.T\n",
        "tensor_X, tensor_X.shape"
      ],
      "metadata": {
        "id": "fAeG7ox0lHEO",
        "outputId": "598f983f-b6eb-4ced-d5bb-e5a26b9045dc",
        "colab": {
          "base_uri": "https://localhost:8080/"
        }
      },
      "execution_count": 28,
      "outputs": [
        {
          "output_type": "execute_result",
          "data": {
            "text/plain": [
              "(tensor([[ 4.7388, -4.1070],\n",
              "         [-4.1070,  4.8506]], device='cuda:0'),\n",
              " torch.Size([2, 2]))"
            ]
          },
          "metadata": {},
          "execution_count": 28
        }
      ]
    },
    {
      "cell_type": "markdown",
      "source": [
        "### 8. Find the maximum and minimum values of the output of 7."
      ],
      "metadata": {
        "id": "G7qfa5CSivwg"
      }
    },
    {
      "cell_type": "code",
      "source": [
        "# Find max\n",
        "print(tensor_X.max())\n",
        "# Find min\n",
        "print(tensor_X.min())"
      ],
      "metadata": {
        "id": "Fu8_3mZpllOd",
        "outputId": "9dbce967-7e4e-4766-c73e-e153bc2dba88",
        "colab": {
          "base_uri": "https://localhost:8080/"
        }
      },
      "execution_count": 30,
      "outputs": [
        {
          "output_type": "stream",
          "name": "stdout",
          "text": [
            "tensor(4.8506, device='cuda:0')\n",
            "tensor(-4.1070, device='cuda:0')\n"
          ]
        }
      ]
    },
    {
      "cell_type": "markdown",
      "source": [
        "### 9. Find the maximum and minimum index values of the output of 7."
      ],
      "metadata": {
        "id": "wrTj5FgNiw47"
      }
    },
    {
      "cell_type": "code",
      "source": [
        "# Find arg max\n",
        "print(tensor_X.argmax())\n",
        "\n",
        "# Find arg min\n",
        "print(tensor_X.argmin())"
      ],
      "metadata": {
        "id": "CCEKt4K2lsfQ",
        "outputId": "390cc15e-dc8a-40db-fe94-dda1b0b7aacf",
        "colab": {
          "base_uri": "https://localhost:8080/"
        }
      },
      "execution_count": 31,
      "outputs": [
        {
          "output_type": "stream",
          "name": "stdout",
          "text": [
            "tensor(3, device='cuda:0')\n",
            "tensor(1, device='cuda:0')\n"
          ]
        }
      ]
    },
    {
      "cell_type": "markdown",
      "source": [
        "\n",
        "### 10. Make a random tensor with shape `(1, 1, 1, 10)` and then create a new tensor with all the `1` dimensions removed to be left with a tensor of shape `(10)`. Set the seed to `7` when you create it and print out the first tensor and it's shape as well as the second tensor and it's shape.\n",
        "\n",
        "The output should look like:\n",
        "\n",
        "```\n",
        "tensor([[[[0.5349, 0.1988, 0.6592, 0.6569, 0.2328, 0.4251, 0.2071, 0.6297,\n",
        "           0.3653, 0.8513]]]]) torch.Size([1, 1, 1, 10])\n",
        "tensor([0.5349, 0.1988, 0.6592, 0.6569, 0.2328, 0.4251, 0.2071, 0.6297, 0.3653,\n",
        "        0.8513]) torch.Size([10])\n",
        "```"
      ],
      "metadata": {
        "id": "hmeybz4uixy7"
      }
    },
    {
      "cell_type": "code",
      "source": [
        "# Set seed\n",
        "torch.manual_seed(7)\n",
        "\n",
        "# Create random tensor\n",
        "tensor_A = torch.randn(1, 1, 1, 10)\n",
        "\n",
        "# Remove single dimensions\n",
        "tensor_B = tensor_A.squeeze()\n",
        "\n",
        "# Print out tensors and their shapes\n",
        "print(tensor_A)\n",
        "print(tensor_A.shape)\n",
        "print(tensor_B)\n",
        "print(tensor_B.shape)"
      ],
      "metadata": {
        "id": "TQ9zbRzVl1jV",
        "outputId": "dcff4bfb-1dd2-45c3-cd0f-f2ff15916c0d",
        "colab": {
          "base_uri": "https://localhost:8080/"
        }
      },
      "execution_count": 32,
      "outputs": [
        {
          "output_type": "stream",
          "name": "stdout",
          "text": [
            "tensor([[[[-0.1468,  0.7861,  0.9468, -1.1143,  1.6908, -0.8948, -0.3556,\n",
            "            1.2324,  0.1382, -1.6822]]]])\n",
            "torch.Size([1, 1, 1, 10])\n",
            "tensor([-0.1468,  0.7861,  0.9468, -1.1143,  1.6908, -0.8948, -0.3556,  1.2324,\n",
            "         0.1382, -1.6822])\n",
            "torch.Size([10])\n"
          ]
        }
      ]
    }
  ]
}